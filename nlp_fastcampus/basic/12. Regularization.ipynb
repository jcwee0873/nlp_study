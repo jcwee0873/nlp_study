{
 "cells": [
  {
   "cell_type": "markdown",
   "id": "8e13bc50",
   "metadata": {},
   "source": [
    "## Regulation"
   ]
  },
  {
   "cell_type": "markdown",
   "id": "2a2098b2",
   "metadata": {},
   "source": [
    "### Data Augmentation\n",
    "- Noise Injection"
   ]
  },
  {
   "cell_type": "markdown",
   "id": "9f3d40e5",
   "metadata": {},
   "source": [
    "### Loss \n",
    "- Weight Decay"
   ]
  },
  {
   "cell_type": "markdown",
   "id": "b3ae5d49",
   "metadata": {},
   "source": [
    "### Neural Network Layer\n",
    "- Dropout\n",
    "- Batch Normalization"
   ]
  },
  {
   "cell_type": "markdown",
   "id": "bd6a3d05",
   "metadata": {},
   "source": [
    "### Training\n",
    "- Early Stopping\n",
    "- Bagging & Ensemble"
   ]
  },
  {
   "cell_type": "code",
   "execution_count": null,
   "id": "9d2fcc9a",
   "metadata": {},
   "outputs": [],
   "source": []
  },
  {
   "cell_type": "markdown",
   "id": "d3e89866",
   "metadata": {},
   "source": [
    "## Weight Decay"
   ]
  },
  {
   "cell_type": "markdown",
   "id": "e676f47a",
   "metadata": {},
   "source": [
    "### L2 Norm\n",
    "- weight parameter가 원점에서 멀어지는 것을 방지\n",
    "- Loss의 계산 과정에서 Loss down -> Weight up\n",
    "- Loss가 다운될 때 Weight의 상승을 막아서 Normalization / 단, Bias는 제외  \n",
    "\n",
    "#### Weight parameter는 노드와 노드 간의 관계를 나타냄\n",
    "- W가 커질수록 Node간의 관계 강도가 강함  \n",
    "\n",
    "### L1 Norm\n",
    "- 노드 사이의 관계가 Sparse하도록 제한\n",
    "- 더 적은 수의 입력 노드로부터 학습하도록 제한\n",
    "\n",
    "#### => Loss minization을 방해함, Loss와 Weight의 상충성을 이용하여 균형지점을 찾음\n",
    "- Loss와 Weight의 균형을 alpha Hyperparameter를 이용하여 조절\n",
    "- optim.Adam or SGD에서 hyperparameter 조정 가능"
   ]
  },
  {
   "cell_type": "code",
   "execution_count": null,
   "id": "e02ca722",
   "metadata": {},
   "outputs": [],
   "source": []
  },
  {
   "cell_type": "markdown",
   "id": "03b595c4",
   "metadata": {},
   "source": [
    "## Data Augmentation\n",
    "- Data의 핵심 Feature는 남겨두고, noise를 더하여 데이터를 확장 => Data set 늘리기\n",
    "  - Heuristics한 방법을 이용\n",
    "- 규칙이 있을경우 규칙마저 학습 / Randomness가 필요\n",
    "\n",
    "### Text Augmentation\n",
    "- Dropping: 임의로 단어 생략\n",
    "- Exchange: 임의로 대상 단어를 주변 단어와 위치 교환  \n",
    "\n",
    "### By Generative Models (GAN, Autoencoder)"
   ]
  },
  {
   "cell_type": "code",
   "execution_count": null,
   "id": "2c85e740",
   "metadata": {},
   "outputs": [],
   "source": []
  },
  {
   "cell_type": "markdown",
   "id": "6d4a9ac5",
   "metadata": {},
   "source": [
    "## Dropout\n",
    "- 학습시 임의로 Node를 동작하지 않도록 함\n",
    "- 추론시 모든 노드를 동작시킴\n",
    "  - 이때문에 학습시 p만큼의 비활성과 비교하여 추론시엔 1/p만큼의 더 큰 입력을 받음\n",
    "  - 따라서 추론시 W에 p를 곱하여 이를 상쇄\n",
    "  \n",
    "#### Layer -> Activation -> Dropout -> Layer"
   ]
  },
  {
   "cell_type": "code",
   "execution_count": null,
   "id": "ecd2ca91",
   "metadata": {},
   "outputs": [],
   "source": []
  },
  {
   "cell_type": "markdown",
   "id": "599e06dc",
   "metadata": {},
   "source": [
    "## BatchNormalization\n",
    "- Internal Covariance Shift Problem\n",
    "  - backpropagation 이후 layer의 forward 결과가 달라짐\n",
    "  - theat1 -> theta2 forward 과정에서 theta2의 경우 변경 전 theta1을 기준으로 update but... 바뀌었네?\n",
    "- Standardization 후 shifting + scaling\n",
    "- y = scale * standardization + shift / y = r * () + b\n",
    "- r, b가 학습 parameter  \n",
    "  \n",
    "  \n",
    "- 학습과 추론의 방법이 다름\n",
    "  - mini-batch에서 u, theta를 계산하기 때문에 batch_size > 1\n",
    "  - 추론시 mini-batch 내에서 계산하는 것은 다은 입력을 보는 것과 같음\n",
    "    - 입력이 들어올 때 마다 moving average, std 계산이 필요  \n",
    "    \n",
    "Layer -> Activation -> BN -> Layer  \n",
    "Layer -> BN -> Activation -> Layer  \n",
    "둘의 성능차이는 없기때문에, dropout 위치에 넣어도 상관없음\n",
    "\n",
    "#### No hyperparameter / 그런데 왜 동작하는지는 정확히 모름 / RNN에서는 사용 불가(Layer Normalization 사용 가능)"
   ]
  },
  {
   "cell_type": "code",
   "execution_count": null,
   "id": "e2ec32b8",
   "metadata": {},
   "outputs": [],
   "source": []
  },
  {
   "cell_type": "code",
   "execution_count": 2,
   "id": "ca7f588d",
   "metadata": {},
   "outputs": [],
   "source": [
    "import numpy as np\n",
    "import matplotlib.pyplot as plt\n",
    "\n",
    "import torch\n",
    "import torch.nn as nn\n",
    "import torch.nn.functional as F\n",
    "import torch.optim as optim"
   ]
  },
  {
   "cell_type": "code",
   "execution_count": 3,
   "id": "3e789007",
   "metadata": {},
   "outputs": [],
   "source": [
    "from torchvision import datasets, transforms"
   ]
  },
  {
   "cell_type": "code",
   "execution_count": 11,
   "id": "d5bf976e",
   "metadata": {},
   "outputs": [],
   "source": [
    "train = datasets.MNIST(\n",
    "    './data', train=True, download=True,\n",
    "    transform=transforms.Compose([\n",
    "        transforms.ToTensor(),\n",
    "    ]),\n",
    ")\n",
    "test = datasets.MNIST(\n",
    "    './data', train=False,\n",
    "    transform=transforms.Compose([\n",
    "        transforms.ToTensor(),\n",
    "    ]),\n",
    ")"
   ]
  },
  {
   "cell_type": "code",
   "execution_count": 15,
   "id": "3c00bb83",
   "metadata": {},
   "outputs": [
    {
     "name": "stdout",
     "output_type": "stream",
     "text": [
      "torch.Size([60000, 784]) torch.Size([60000])\n",
      "input_size: 784, output_size: 10\n"
     ]
    }
   ],
   "source": [
    "x = train.data.float() / 255.\n",
    "y = train.targets\n",
    "\n",
    "x = x.view(x.size(0), -1)\n",
    "print(x.shape, y.shape)\n",
    "\n",
    "input_size = x.size(-1)\n",
    "output_size = int(max(y)) + 1\n",
    "\n",
    "print('input_size: %d, output_size: %d' % (input_size, output_size))"
   ]
  },
  {
   "cell_type": "code",
   "execution_count": 16,
   "id": "f90a44db",
   "metadata": {},
   "outputs": [
    {
     "name": "stdout",
     "output_type": "stream",
     "text": [
      "torch.Size([48000, 784]) torch.Size([48000])\n",
      "torch.Size([12000, 784]) torch.Size([12000])\n",
      "torch.Size([10000, 784]) torch.Size([10000])\n"
     ]
    }
   ],
   "source": [
    "ratios = [.8, .2]\n",
    "train_cnt = int(x.size(0) * ratios[0])\n",
    "valid_cnt = int(x.size(0) * ratios[1])\n",
    "test_cnt = len(test.data)\n",
    "cnt = [train_cnt, valid_cnt]\n",
    "\n",
    "indices = torch.randperm(x.size(0))\n",
    "\n",
    "x = torch.index_select(x, dim=0, index=indices)\n",
    "y = torch.index_select(y, dim=0, index=indices)\n",
    "\n",
    "x = list(x.split(cnt, dim=0))\n",
    "y = list(y.split(cnt, dim=0))\n",
    "\n",
    "x += [(test.data.float() / 255.).view(test_cnt, -1)]\n",
    "y += [test.targets]\n",
    "\n",
    "for x_i, y_i in zip(x, y):\n",
    "    print(x_i.size(), y_i.size())"
   ]
  },
  {
   "cell_type": "code",
   "execution_count": 18,
   "id": "b62975fb",
   "metadata": {},
   "outputs": [],
   "source": [
    "class Block(nn.Module):\n",
    "    \n",
    "    def __init__(self,\n",
    "                 input_size,\n",
    "                 output_size,\n",
    "                 use_batch_norm=True,\n",
    "                 dropout_p=.4):\n",
    "        self.input_size = input_size\n",
    "        self.output_size = output_size\n",
    "        self.use_batch_norm = use_batch_norm\n",
    "        self.dropout_p = dropout_p\n",
    "        \n",
    "        super().__init__()\n",
    "        \n",
    "        def get_regularizer(use_batch_norm, size):\n",
    "            return nn.BatchNorm1d(size) if use_batch_norm else nn.Dropout(dropout_p)\n",
    "        \n",
    "        self.block = nn.Sequential(\n",
    "            nn.Linear(input_size, output_size),\n",
    "            nn.LeakyReLU(),\n",
    "            get_regularizer(use_batch_norm, output_size)\n",
    "        )\n",
    "        \n",
    "    def forward(self, x):\n",
    "        y = self.block(x)\n",
    "        \n",
    "        return y"
   ]
  },
  {
   "cell_type": "code",
   "execution_count": 22,
   "id": "f0c6f775",
   "metadata": {},
   "outputs": [],
   "source": [
    "class MyModel(nn.Module):\n",
    "    \n",
    "    def __init__(self,\n",
    "                 input_size,\n",
    "                 output_size,\n",
    "                 use_batch_norm=True,\n",
    "                 dropout_p=.4):\n",
    "        \n",
    "        super().__init__()\n",
    "        \n",
    "        self.layers = nn.Sequential(\n",
    "            Block(input_size, 500, use_batch_norm, dropout_p),\n",
    "            Block(500, 400, use_batch_norm, dropout_p),\n",
    "            Block(400, 300, use_batch_norm, dropout_p),\n",
    "            Block(300, 200, use_batch_norm, dropout_p),\n",
    "            Block(200, 100, use_batch_norm, dropout_p),\n",
    "            nn.Linear(100, output_size),\n",
    "            nn.LogSoftmax(dim=-1),\n",
    "        )\n",
    "        \n",
    "    def forward(self, x):\n",
    "        y = self.layers(x)\n",
    "        \n",
    "        return y"
   ]
  },
  {
   "cell_type": "code",
   "execution_count": 31,
   "id": "860d3297",
   "metadata": {},
   "outputs": [
    {
     "data": {
      "text/plain": [
       "MyModel(\n",
       "  (layers): Sequential(\n",
       "    (0): Block(\n",
       "      (block): Sequential(\n",
       "        (0): Linear(in_features=784, out_features=500, bias=True)\n",
       "        (1): LeakyReLU(negative_slope=0.01)\n",
       "        (2): BatchNorm1d(500, eps=1e-05, momentum=0.1, affine=True, track_running_stats=True)\n",
       "      )\n",
       "    )\n",
       "    (1): Block(\n",
       "      (block): Sequential(\n",
       "        (0): Linear(in_features=500, out_features=400, bias=True)\n",
       "        (1): LeakyReLU(negative_slope=0.01)\n",
       "        (2): BatchNorm1d(400, eps=1e-05, momentum=0.1, affine=True, track_running_stats=True)\n",
       "      )\n",
       "    )\n",
       "    (2): Block(\n",
       "      (block): Sequential(\n",
       "        (0): Linear(in_features=400, out_features=300, bias=True)\n",
       "        (1): LeakyReLU(negative_slope=0.01)\n",
       "        (2): BatchNorm1d(300, eps=1e-05, momentum=0.1, affine=True, track_running_stats=True)\n",
       "      )\n",
       "    )\n",
       "    (3): Block(\n",
       "      (block): Sequential(\n",
       "        (0): Linear(in_features=300, out_features=200, bias=True)\n",
       "        (1): LeakyReLU(negative_slope=0.01)\n",
       "        (2): BatchNorm1d(200, eps=1e-05, momentum=0.1, affine=True, track_running_stats=True)\n",
       "      )\n",
       "    )\n",
       "    (4): Block(\n",
       "      (block): Sequential(\n",
       "        (0): Linear(in_features=200, out_features=100, bias=True)\n",
       "        (1): LeakyReLU(negative_slope=0.01)\n",
       "        (2): BatchNorm1d(100, eps=1e-05, momentum=0.1, affine=True, track_running_stats=True)\n",
       "      )\n",
       "    )\n",
       "    (5): Linear(in_features=100, out_features=10, bias=True)\n",
       "    (6): LogSoftmax(dim=-1)\n",
       "  )\n",
       ")"
      ]
     },
     "execution_count": 31,
     "metadata": {},
     "output_type": "execute_result"
    }
   ],
   "source": [
    "model = MyModel(input_size,\n",
    "                output_size,\n",
    "                use_batch_norm=True)\n",
    "\n",
    "model"
   ]
  },
  {
   "cell_type": "code",
   "execution_count": 32,
   "id": "b65f7aa5",
   "metadata": {},
   "outputs": [],
   "source": [
    "crit = nn.NLLLoss()"
   ]
  },
  {
   "cell_type": "code",
   "execution_count": 33,
   "id": "09841486",
   "metadata": {},
   "outputs": [],
   "source": [
    "optimizer = optim.Adam(model.parameters())"
   ]
  },
  {
   "cell_type": "code",
   "execution_count": 34,
   "id": "5499abe1",
   "metadata": {},
   "outputs": [],
   "source": [
    "device = torch.device('cpu')\n",
    "if torch.cuda.is_available():\n",
    "    device = torch.device('cuda')"
   ]
  },
  {
   "cell_type": "code",
   "execution_count": 35,
   "id": "b90b1bc1",
   "metadata": {},
   "outputs": [],
   "source": [
    "model = model.to(device)\n",
    "\n",
    "x = [x_i.to(device) for x_i in x]\n",
    "y = [y_i.to(device) for y_i in y]"
   ]
  },
  {
   "cell_type": "code",
   "execution_count": 36,
   "id": "c010bfa5",
   "metadata": {},
   "outputs": [],
   "source": [
    "n_epochs = 1000\n",
    "batch_size = 256\n",
    "print_interval = 10"
   ]
  },
  {
   "cell_type": "code",
   "execution_count": 37,
   "id": "d6ead58a",
   "metadata": {},
   "outputs": [],
   "source": [
    "from copy import deepcopy\n",
    "\n",
    "lowest_loss = np.inf\n",
    "best_model = None\n",
    "\n",
    "early_stop = 50\n",
    "lowest_epoch = np.inf"
   ]
  },
  {
   "cell_type": "code",
   "execution_count": 38,
   "id": "cee821bc",
   "metadata": {},
   "outputs": [
    {
     "name": "stdout",
     "output_type": "stream",
     "text": [
      "Epoch 10: train_loss=1.9552e-02  valid_loss=8.1424e-02  lowest_loss=8.0092e-02\n",
      "Epoch 20: train_loss=1.0327e-02  valid_loss=8.6426e-02  lowest_loss=7.0746e-02\n",
      "Epoch 30: train_loss=7.8174e-03  valid_loss=8.5152e-02  lowest_loss=6.5998e-02\n",
      "Epoch 40: train_loss=7.1897e-03  valid_loss=9.2464e-02  lowest_loss=6.5998e-02\n",
      "Epoch 50: train_loss=6.9998e-03  valid_loss=8.1685e-02  lowest_loss=6.5998e-02\n",
      "Epoch 60: train_loss=2.7548e-03  valid_loss=7.6672e-02  lowest_loss=6.5998e-02\n",
      "Epoch 70: train_loss=9.7034e-04  valid_loss=8.3917e-02  lowest_loss=6.5998e-02\n",
      "No Improvement during last 50 epochs.\n",
      "Best validation loss from epoch 22: 6.5998e-02\n"
     ]
    },
    {
     "data": {
      "text/plain": [
       "<All keys matched successfully>"
      ]
     },
     "execution_count": 38,
     "metadata": {},
     "output_type": "execute_result"
    }
   ],
   "source": [
    "train_history, valid_history = [], []\n",
    "\n",
    "for i in range(n_epochs):\n",
    "    model.train()\n",
    "    \n",
    "    indices = torch.randperm(x[0].size(0)).to(device)\n",
    "    x_ = torch.index_select(x[0], dim=0, index=indices)\n",
    "    y_ = torch.index_select(y[0], dim=0, index=indices)\n",
    "    \n",
    "    x_ = x_.split(batch_size, dim=0)\n",
    "    y_ = y_.split(batch_size, dim=0)\n",
    "    \n",
    "    train_loss = 0\n",
    "    \n",
    "    for x_i, y_i in zip(x_, y_):\n",
    "        y_hat_i = model(x_i)\n",
    "        loss = crit(y_hat_i, y_i.squeeze())\n",
    "        \n",
    "        optimizer.zero_grad()\n",
    "        loss.backward()\n",
    "        \n",
    "        optimizer.step()\n",
    "        train_loss += float(loss)\n",
    "    \n",
    "    train_loss = train_loss / len(x_)\n",
    "    \n",
    "    model.eval()\n",
    "    with torch.no_grad():\n",
    "        x_ = x[1].split(batch_size, dim=0)\n",
    "        y_ = y[1].split(batch_size, dim=0)\n",
    "        \n",
    "        valid_loss = 0\n",
    "        \n",
    "        for x_i, y_i in zip(x_, y_):\n",
    "            y_hat_i = model(x_i)\n",
    "            loss = crit(y_hat_i, y_i.squeeze())\n",
    "            \n",
    "            valid_loss += float(loss)\n",
    "            \n",
    "    valid_loss = valid_loss / len(x_)\n",
    "    \n",
    "    train_history += [train_loss]\n",
    "    valid_history += [valid_loss]\n",
    "    \n",
    "    if (i + 1) % print_interval == 0:\n",
    "        print('Epoch %d: train_loss=%.4e  valid_loss=%.4e  lowest_loss=%.4e' % (\n",
    "             (i + 1),\n",
    "             train_loss,\n",
    "             valid_loss,\n",
    "             lowest_loss\n",
    "        ))\n",
    "    \n",
    "    if valid_loss <= lowest_loss:\n",
    "        lowest_loss = valid_loss\n",
    "        lowest_epoch = i\n",
    "        \n",
    "        best_model = deepcopy(model.state_dict())\n",
    "        \n",
    "    else :\n",
    "        if early_stop > 0 and lowest_epoch + early_stop < i + 1:\n",
    "            print('No Improvement during last %d epochs.' % early_stop)\n",
    "            break\n",
    "            \n",
    "print('Best validation loss from epoch %d: %.4e' % (lowest_epoch, lowest_loss))\n",
    "model.load_state_dict(best_model)"
   ]
  },
  {
   "cell_type": "code",
   "execution_count": 40,
   "id": "d1532667",
   "metadata": {},
   "outputs": [
    {
     "data": {
      "image/png": "[encoded data removed]",
      "text/plain": [
       "<Figure size 1440x720 with 1 Axes>"
      ]
     },
     "metadata": {
      "needs_background": "light"
     },
     "output_type": "display_data"
    }
   ],
   "source": [
    "plot_from = 0\n",
    "\n",
    "plt.figure(figsize=(20, 10))\n",
    "plt.grid(True)\n",
    "plt.plot(range(plot_from, len(train_history)), train_history[plot_from:], label='Train')\n",
    "plt.plot(range(plot_from, len(valid_history)), valid_history[plot_from:], label='Valid')\n",
    "plt.yscale('log')\n",
    "plt.legend()\n",
    "plt.show()"
   ]
  },
  {
   "cell_type": "code",
   "execution_count": 41,
   "id": "b6bec845",
   "metadata": {},
   "outputs": [
    {
     "name": "stdout",
     "output_type": "stream",
     "text": [
      "Test loss: 6.2506e-02\n"
     ]
    }
   ],
   "source": [
    "test_loss = 0\n",
    "\n",
    "y_hat = []\n",
    "\n",
    "model.eval()\n",
    "with torch.no_grad():\n",
    "    x_ = x[2].split(batch_size, dim=0)\n",
    "    y_ = y[2].split(batch_size, dim=0)\n",
    "    \n",
    "    for x_i, y_i in zip(x_, y_):\n",
    "        y_hat_i = model(x_i)\n",
    "        loss = crit(y_hat_i, y_i.squeeze())\n",
    "        \n",
    "        test_loss += float(loss)\n",
    "        y_hat += [y_hat_i]\n",
    "        \n",
    "test_loss = test_loss / len(x_)\n",
    "\n",
    "print('Test loss: %.4e' % test_loss)"
   ]
  },
  {
   "cell_type": "code",
   "execution_count": 44,
   "id": "4213bbaa",
   "metadata": {},
   "outputs": [
    {
     "name": "stdout",
     "output_type": "stream",
     "text": [
      "Accuracy: 0.9840\n"
     ]
    }
   ],
   "source": [
    "y_hat = torch.cat(y_hat, dim=0)\n",
    "\n",
    "correct_cnt = (y[-1].squeeze() == torch.argmax(y_hat, dim=-1)).sum()\n",
    "total_cnt = float(y[-1].size(0))\n",
    "\n",
    "print('Accuracy: %.4f' % (correct_cnt / total_cnt))"
   ]
  },
  {
   "cell_type": "code",
   "execution_count": 45,
   "id": "f78334f1",
   "metadata": {},
   "outputs": [],
   "source": [
    "import pandas as pd\n",
    "from sklearn.metrics import confusion_matrix"
   ]
  },
  {
   "cell_type": "code",
   "execution_count": 47,
   "id": "eb825b8b",
   "metadata": {},
   "outputs": [
    {
     "data": {
      "text/html": [
       "<div>\n",
       "<style scoped>\n",
       "    .dataframe tbody tr th:only-of-type {\n",
       "        vertical-align: middle;\n",
       "    }\n",
       "\n",
       "    .dataframe tbody tr th {\n",
       "        vertical-align: top;\n",
       "    }\n",
       "\n",
       "    .dataframe thead th {\n",
       "        text-align: right;\n",
       "    }\n",
       "</style>\n",
       "<table border=\"1\" class=\"dataframe\">\n",
       "  <thead>\n",
       "    <tr style=\"text-align: right;\">\n",
       "      <th></th>\n",
       "      <th>pred_0</th>\n",
       "      <th>pred_1</th>\n",
       "      <th>pred_2</th>\n",
       "      <th>pred_3</th>\n",
       "      <th>pred_4</th>\n",
       "      <th>pred_5</th>\n",
       "      <th>pred_6</th>\n",
       "      <th>pred_7</th>\n",
       "      <th>pred_8</th>\n",
       "      <th>pred_9</th>\n",
       "    </tr>\n",
       "  </thead>\n",
       "  <tbody>\n",
       "    <tr>\n",
       "      <th>true_0</th>\n",
       "      <td>971</td>\n",
       "      <td>0</td>\n",
       "      <td>0</td>\n",
       "      <td>0</td>\n",
       "      <td>0</td>\n",
       "      <td>1</td>\n",
       "      <td>4</td>\n",
       "      <td>0</td>\n",
       "      <td>2</td>\n",
       "      <td>2</td>\n",
       "    </tr>\n",
       "    <tr>\n",
       "      <th>true_1</th>\n",
       "      <td>0</td>\n",
       "      <td>1128</td>\n",
       "      <td>1</td>\n",
       "      <td>0</td>\n",
       "      <td>0</td>\n",
       "      <td>1</td>\n",
       "      <td>1</td>\n",
       "      <td>1</td>\n",
       "      <td>3</td>\n",
       "      <td>0</td>\n",
       "    </tr>\n",
       "    <tr>\n",
       "      <th>true_2</th>\n",
       "      <td>1</td>\n",
       "      <td>2</td>\n",
       "      <td>1012</td>\n",
       "      <td>4</td>\n",
       "      <td>1</td>\n",
       "      <td>0</td>\n",
       "      <td>0</td>\n",
       "      <td>4</td>\n",
       "      <td>8</td>\n",
       "      <td>0</td>\n",
       "    </tr>\n",
       "    <tr>\n",
       "      <th>true_3</th>\n",
       "      <td>0</td>\n",
       "      <td>0</td>\n",
       "      <td>0</td>\n",
       "      <td>995</td>\n",
       "      <td>0</td>\n",
       "      <td>5</td>\n",
       "      <td>0</td>\n",
       "      <td>4</td>\n",
       "      <td>2</td>\n",
       "      <td>4</td>\n",
       "    </tr>\n",
       "    <tr>\n",
       "      <th>true_4</th>\n",
       "      <td>0</td>\n",
       "      <td>0</td>\n",
       "      <td>4</td>\n",
       "      <td>0</td>\n",
       "      <td>961</td>\n",
       "      <td>0</td>\n",
       "      <td>4</td>\n",
       "      <td>1</td>\n",
       "      <td>1</td>\n",
       "      <td>11</td>\n",
       "    </tr>\n",
       "    <tr>\n",
       "      <th>true_5</th>\n",
       "      <td>2</td>\n",
       "      <td>0</td>\n",
       "      <td>0</td>\n",
       "      <td>5</td>\n",
       "      <td>2</td>\n",
       "      <td>874</td>\n",
       "      <td>4</td>\n",
       "      <td>1</td>\n",
       "      <td>3</td>\n",
       "      <td>1</td>\n",
       "    </tr>\n",
       "    <tr>\n",
       "      <th>true_6</th>\n",
       "      <td>4</td>\n",
       "      <td>2</td>\n",
       "      <td>0</td>\n",
       "      <td>1</td>\n",
       "      <td>2</td>\n",
       "      <td>2</td>\n",
       "      <td>945</td>\n",
       "      <td>0</td>\n",
       "      <td>2</td>\n",
       "      <td>0</td>\n",
       "    </tr>\n",
       "    <tr>\n",
       "      <th>true_7</th>\n",
       "      <td>1</td>\n",
       "      <td>1</td>\n",
       "      <td>5</td>\n",
       "      <td>0</td>\n",
       "      <td>1</td>\n",
       "      <td>0</td>\n",
       "      <td>0</td>\n",
       "      <td>1009</td>\n",
       "      <td>3</td>\n",
       "      <td>8</td>\n",
       "    </tr>\n",
       "    <tr>\n",
       "      <th>true_8</th>\n",
       "      <td>1</td>\n",
       "      <td>1</td>\n",
       "      <td>2</td>\n",
       "      <td>4</td>\n",
       "      <td>1</td>\n",
       "      <td>3</td>\n",
       "      <td>1</td>\n",
       "      <td>2</td>\n",
       "      <td>956</td>\n",
       "      <td>3</td>\n",
       "    </tr>\n",
       "    <tr>\n",
       "      <th>true_9</th>\n",
       "      <td>3</td>\n",
       "      <td>2</td>\n",
       "      <td>0</td>\n",
       "      <td>0</td>\n",
       "      <td>9</td>\n",
       "      <td>2</td>\n",
       "      <td>0</td>\n",
       "      <td>1</td>\n",
       "      <td>3</td>\n",
       "      <td>989</td>\n",
       "    </tr>\n",
       "  </tbody>\n",
       "</table>\n",
       "</div>"
      ],
      "text/plain": [
       "        pred_0  pred_1  pred_2  pred_3  pred_4  pred_5  pred_6  pred_7  \\\n",
       "true_0     971       0       0       0       0       1       4       0   \n",
       "true_1       0    1128       1       0       0       1       1       1   \n",
       "true_2       1       2    1012       4       1       0       0       4   \n",
       "true_3       0       0       0     995       0       5       0       4   \n",
       "true_4       0       0       4       0     961       0       4       1   \n",
       "true_5       2       0       0       5       2     874       4       1   \n",
       "true_6       4       2       0       1       2       2     945       0   \n",
       "true_7       1       1       5       0       1       0       0    1009   \n",
       "true_8       1       1       2       4       1       3       1       2   \n",
       "true_9       3       2       0       0       9       2       0       1   \n",
       "\n",
       "        pred_8  pred_9  \n",
       "true_0       2       2  \n",
       "true_1       3       0  \n",
       "true_2       8       0  \n",
       "true_3       2       4  \n",
       "true_4       1      11  \n",
       "true_5       3       1  \n",
       "true_6       2       0  \n",
       "true_7       3       8  \n",
       "true_8     956       3  \n",
       "true_9       3     989  "
      ]
     },
     "execution_count": 47,
     "metadata": {},
     "output_type": "execute_result"
    }
   ],
   "source": [
    "pd.DataFrame(confusion_matrix(y[-1], torch.argmax(y_hat, dim=-1)),\n",
    "             index=['true_%d' % i for i in range(output_size)],\n",
    "             columns=['pred_%d' % i for i in range(output_size)])"
   ]
  },
  {
   "cell_type": "code",
   "execution_count": null,
   "id": "142f8508",
   "metadata": {},
   "outputs": [],
   "source": []
  }
 ],
 "metadata": {
  "kernelspec": {
   "display_name": "Python 3 (ipykernel)",
   "language": "python",
   "name": "python3"
  },
  "language_info": {
   "codemirror_mode": {
    "name": "ipython",
    "version": 3
   },
   "file_extension": ".py",
   "mimetype": "text/x-python",
   "name": "python",
   "nbconvert_exporter": "python",
   "pygments_lexer": "ipython3",
   "version": "3.9.7"
  }
 },
 "nbformat": 4,
 "nbformat_minor": 5
}
