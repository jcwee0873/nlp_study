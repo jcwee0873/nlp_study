{
 "cells": [
  {
   "cell_type": "code",
   "execution_count": 1,
   "id": "e706faa2",
   "metadata": {},
   "outputs": [],
   "source": [
    "import torch"
   ]
  },
  {
   "cell_type": "markdown",
   "id": "07c3f8fe",
   "metadata": {},
   "source": [
    "## LossFunction"
   ]
  },
  {
   "cell_type": "code",
   "execution_count": 2,
   "id": "eeae4de4",
   "metadata": {},
   "outputs": [],
   "source": [
    "def mse(x_hat, x):\n",
    "    # |x_hat| = (batch_size, dim)\n",
    "    # |x| = (batch_size, dim)\n",
    "    y = ((x - x_hat) ** 2).mean()\n",
    "    \n",
    "    return y"
   ]
  },
  {
   "cell_type": "code",
   "execution_count": 3,
   "id": "ce40fdf6",
   "metadata": {},
   "outputs": [
    {
     "data": {
      "text/plain": [
       "(torch.Size([2, 2]), torch.Size([2, 2]))"
      ]
     },
     "execution_count": 3,
     "metadata": {},
     "output_type": "execute_result"
    }
   ],
   "source": [
    "x = torch.FloatTensor([[1, 1],\n",
    "                       [2, 2]])\n",
    "x_hat = torch.FloatTensor([[0, 0],\n",
    "                           [0, 0]])\n",
    "x.shape, x_hat.shape"
   ]
  },
  {
   "cell_type": "code",
   "execution_count": 4,
   "id": "0a32a8b1",
   "metadata": {},
   "outputs": [
    {
     "data": {
      "text/plain": [
       "tensor(2.5000)"
      ]
     },
     "execution_count": 4,
     "metadata": {},
     "output_type": "execute_result"
    }
   ],
   "source": [
    "mse(x_hat, x)"
   ]
  },
  {
   "cell_type": "markdown",
   "id": "f462f5e8",
   "metadata": {},
   "source": [
    "### Predefined MSE in torch"
   ]
  },
  {
   "cell_type": "code",
   "execution_count": 5,
   "id": "ee7d5ef2",
   "metadata": {},
   "outputs": [],
   "source": [
    "import torch.nn.functional as F"
   ]
  },
  {
   "cell_type": "code",
   "execution_count": 6,
   "id": "a7528b89",
   "metadata": {},
   "outputs": [
    {
     "data": {
      "text/plain": [
       "tensor(2.5000)"
      ]
     },
     "execution_count": 6,
     "metadata": {},
     "output_type": "execute_result"
    }
   ],
   "source": [
    "F.mse_loss(x_hat, x)"
   ]
  },
  {
   "cell_type": "code",
   "execution_count": 10,
   "id": "20270cbc",
   "metadata": {},
   "outputs": [
    {
     "data": {
      "text/plain": [
       "tensor([[1., 1.],\n",
       "        [4., 4.]])"
      ]
     },
     "execution_count": 10,
     "metadata": {},
     "output_type": "execute_result"
    }
   ],
   "source": [
    "F.mse_loss(x_hat, x, reduction='none')"
   ]
  },
  {
   "cell_type": "code",
   "execution_count": 7,
   "id": "5ebff407",
   "metadata": {},
   "outputs": [
    {
     "data": {
      "text/plain": [
       "tensor(10.)"
      ]
     },
     "execution_count": 7,
     "metadata": {},
     "output_type": "execute_result"
    }
   ],
   "source": [
    "F.mse_loss(x_hat, x, reduction='sum')"
   ]
  },
  {
   "cell_type": "code",
   "execution_count": 11,
   "id": "68867cd8",
   "metadata": {},
   "outputs": [
    {
     "data": {
      "text/plain": [
       "tensor(2.5000)"
      ]
     },
     "execution_count": 11,
     "metadata": {},
     "output_type": "execute_result"
    }
   ],
   "source": [
    "F.mse_loss(x_hat, x, reduction='mean')"
   ]
  },
  {
   "cell_type": "code",
   "execution_count": 12,
   "id": "da5155fc",
   "metadata": {},
   "outputs": [],
   "source": [
    "import torch.nn as nn"
   ]
  },
  {
   "cell_type": "code",
   "execution_count": 13,
   "id": "313290e3",
   "metadata": {},
   "outputs": [
    {
     "data": {
      "text/plain": [
       "tensor(2.5000)"
      ]
     },
     "execution_count": 13,
     "metadata": {},
     "output_type": "execute_result"
    }
   ],
   "source": [
    "mse_loss = nn.MSELoss()\n",
    "\n",
    "mse_loss(x_hat, x)"
   ]
  },
  {
   "cell_type": "code",
   "execution_count": null,
   "id": "1a1949b0",
   "metadata": {},
   "outputs": [],
   "source": []
  },
  {
   "cell_type": "markdown",
   "id": "dd8cd604",
   "metadata": {},
   "source": [
    "## Gradient Descent"
   ]
  },
  {
   "cell_type": "code",
   "execution_count": 14,
   "id": "2fcc1f99",
   "metadata": {},
   "outputs": [],
   "source": [
    "# grad 대상인가? True\n",
    "x = torch.FloatTensor([[1, 2],\n",
    "                       [3, 4]]).requires_grad_(True)"
   ]
  },
  {
   "cell_type": "code",
   "execution_count": 15,
   "id": "d669bdf9",
   "metadata": {},
   "outputs": [
    {
     "data": {
      "text/plain": [
       "(tensor([[3., 4.],\n",
       "         [5., 6.]], grad_fn=<AddBackward0>),\n",
       " tensor([[-1.,  0.],\n",
       "         [ 1.,  2.]], grad_fn=<SubBackward0>),\n",
       " tensor([[-3.,  0.],\n",
       "         [ 5., 12.]], grad_fn=<MulBackward0>),\n",
       " tensor(14., grad_fn=<SumBackward0>))"
      ]
     },
     "execution_count": 15,
     "metadata": {},
     "output_type": "execute_result"
    }
   ],
   "source": [
    "x1 = x + 2\n",
    "x2 = x - 2\n",
    "x3 = x1 * x2\n",
    "y = x3.sum()\n",
    "\n",
    "x1, x2, x3, y"
   ]
  },
  {
   "cell_type": "code",
   "execution_count": 16,
   "id": "9fdc5aa7",
   "metadata": {},
   "outputs": [],
   "source": [
    "# 미분 진행, auto_grad\n",
    "y.backward()"
   ]
  },
  {
   "cell_type": "code",
   "execution_count": 17,
   "id": "e88a3e9b",
   "metadata": {},
   "outputs": [
    {
     "data": {
      "text/plain": [
       "tensor([[2., 4.],\n",
       "        [6., 8.]])"
      ]
     },
     "execution_count": 17,
     "metadata": {},
     "output_type": "execute_result"
    }
   ],
   "source": [
    "x.grad"
   ]
  },
  {
   "cell_type": "code",
   "execution_count": 19,
   "id": "b967bac4",
   "metadata": {},
   "outputs": [
    {
     "data": {
      "text/plain": [
       "tensor([[1., 2.],\n",
       "        [3., 4.]], requires_grad=True)"
      ]
     },
     "execution_count": 19,
     "metadata": {},
     "output_type": "execute_result"
    }
   ],
   "source": [
    "x"
   ]
  },
  {
   "cell_type": "code",
   "execution_count": 22,
   "id": "84a4ba1a",
   "metadata": {},
   "outputs": [
    {
     "ename": "RuntimeError",
     "evalue": "Can't call numpy() on Tensor that requires grad. Use tensor.detach().numpy() instead.",
     "output_type": "error",
     "traceback": [
      "\u001b[0;31m---------------------------------------------------------------------------\u001b[0m",
      "\u001b[0;31mRuntimeError\u001b[0m                              Traceback (most recent call last)",
      "\u001b[0;32m/var/folders/fy/f7hm_xxs1bb1k3q0vxk7zc_w0000gn/T/ipykernel_5653/14539850.py\u001b[0m in \u001b[0;36m<module>\u001b[0;34m\u001b[0m\n\u001b[0;32m----> 1\u001b[0;31m \u001b[0mx3\u001b[0m\u001b[0;34m.\u001b[0m\u001b[0mnumpy\u001b[0m\u001b[0;34m(\u001b[0m\u001b[0;34m)\u001b[0m\u001b[0;34m\u001b[0m\u001b[0;34m\u001b[0m\u001b[0m\n\u001b[0m",
      "\u001b[0;31mRuntimeError\u001b[0m: Can't call numpy() on Tensor that requires grad. Use tensor.detach().numpy() instead."
     ]
    }
   ],
   "source": [
    "x3.numpy()"
   ]
  },
  {
   "cell_type": "code",
   "execution_count": 23,
   "id": "163efaf6",
   "metadata": {},
   "outputs": [
    {
     "data": {
      "text/plain": [
       "array([[-3.,  0.],\n",
       "       [ 5., 12.]], dtype=float32)"
      ]
     },
     "execution_count": 23,
     "metadata": {},
     "output_type": "execute_result"
    }
   ],
   "source": [
    "x3.detach().numpy()"
   ]
  },
  {
   "cell_type": "markdown",
   "id": "6f3be6aa",
   "metadata": {},
   "source": [
    "#### Auto Grad 공부 추가 필요, 왜 x에 반영되는거지?\n",
    "\n",
    "https://tutorials.pytorch.kr/beginner/blitz/autograd_tutorial.html"
   ]
  },
  {
   "cell_type": "markdown",
   "id": "e1046ea6",
   "metadata": {},
   "source": [
    "### Gradient by torch"
   ]
  },
  {
   "cell_type": "code",
   "execution_count": 26,
   "id": "7a4aeed4",
   "metadata": {},
   "outputs": [],
   "source": [
    "import torch.nn.functional as F"
   ]
  },
  {
   "cell_type": "code",
   "execution_count": 25,
   "id": "5ed3229e",
   "metadata": {},
   "outputs": [],
   "source": [
    "target = torch.FloatTensor([[.1, .2, .3],\n",
    "                            [.4, .5, .6],\n",
    "                            [.7, .8, .9]])"
   ]
  },
  {
   "cell_type": "code",
   "execution_count": 27,
   "id": "d1d7640c",
   "metadata": {},
   "outputs": [
    {
     "data": {
      "text/plain": [
       "tensor([[0.8842, 0.6144, 0.7065],\n",
       "        [0.0245, 0.7161, 0.8416],\n",
       "        [0.2346, 0.6684, 0.6371]], requires_grad=True)"
      ]
     },
     "execution_count": 27,
     "metadata": {},
     "output_type": "execute_result"
    }
   ],
   "source": [
    "x = torch.rand_like(target)\n",
    "\n",
    "x.requires_grad = True\n",
    "\n",
    "x"
   ]
  },
  {
   "cell_type": "code",
   "execution_count": 28,
   "id": "f1c6fdbd",
   "metadata": {},
   "outputs": [
    {
     "data": {
      "text/plain": [
       "tensor(0.1668, grad_fn=<MseLossBackward0>)"
      ]
     },
     "execution_count": 28,
     "metadata": {},
     "output_type": "execute_result"
    }
   ],
   "source": [
    "loss = F.mse_loss(x, target)\n",
    "\n",
    "loss"
   ]
  },
  {
   "cell_type": "code",
   "execution_count": 30,
   "id": "52b2019d",
   "metadata": {},
   "outputs": [
    {
     "name": "stdout",
     "output_type": "stream",
     "text": [
      "1-th Loss: 6.1035e-02\n",
      "tensor([[0.5744, 0.4507, 0.5459],\n",
      "        [0.1728, 0.6307, 0.7462],\n",
      "        [0.4185, 0.7204, 0.7409]], requires_grad=True)\n",
      "2-th Loss: 3.6922e-02\n",
      "tensor([[0.4690, 0.3950, 0.4913],\n",
      "        [0.2233, 0.6017, 0.7137],\n",
      "        [0.4810, 0.7381, 0.7763]], requires_grad=True)\n",
      "3-th Loss: 2.2336e-02\n",
      "tensor([[0.3870, 0.3517, 0.4488],\n",
      "        [0.2626, 0.5791, 0.6884],\n",
      "        [0.5297, 0.7518, 0.8038]], requires_grad=True)\n",
      "4-th Loss: 1.3512e-02\n",
      "tensor([[0.3232, 0.3180, 0.4157],\n",
      "        [0.2931, 0.5615, 0.6688],\n",
      "        [0.5675, 0.7625, 0.8252]], requires_grad=True)\n",
      "5-th Loss: 8.1738e-03\n",
      "tensor([[0.2736, 0.2917, 0.3900],\n",
      "        [0.3169, 0.5478, 0.6535],\n",
      "        [0.5970, 0.7709, 0.8418]], requires_grad=True)\n",
      "6-th Loss: 4.9446e-03\n",
      "tensor([[0.2350, 0.2714, 0.3700],\n",
      "        [0.3353, 0.5372, 0.6416],\n",
      "        [0.6199, 0.7773, 0.8547]], requires_grad=True)\n",
      "7-th Loss: 2.9912e-03\n",
      "tensor([[0.2050, 0.2555, 0.3544],\n",
      "        [0.3497, 0.5289, 0.6324],\n",
      "        [0.6377, 0.7824, 0.8648]], requires_grad=True)\n",
      "8-th Loss: 1.8095e-03\n",
      "tensor([[0.1817, 0.2432, 0.3423],\n",
      "        [0.3609, 0.5225, 0.6252],\n",
      "        [0.6515, 0.7863, 0.8726]], requires_grad=True)\n",
      "9-th Loss: 1.0946e-03\n",
      "tensor([[0.1635, 0.2336, 0.3329],\n",
      "        [0.3696, 0.5175, 0.6196],\n",
      "        [0.6623, 0.7893, 0.8787]], requires_grad=True)\n",
      "10-th Loss: 6.6218e-04\n",
      "tensor([[0.1494, 0.2261, 0.3256],\n",
      "        [0.3763, 0.5136, 0.6152],\n",
      "        [0.6707, 0.7917, 0.8834]], requires_grad=True)\n",
      "11-th Loss: 4.0058e-04\n",
      "tensor([[0.1384, 0.2203, 0.3199],\n",
      "        [0.3816, 0.5106, 0.6118],\n",
      "        [0.6772, 0.7936, 0.8871]], requires_grad=True)\n",
      "12-th Loss: 2.4233e-04\n",
      "tensor([[0.1299, 0.2158, 0.3155],\n",
      "        [0.3857, 0.5082, 0.6092],\n",
      "        [0.6823, 0.7950, 0.8900]], requires_grad=True)\n",
      "13-th Loss: 1.4659e-04\n",
      "tensor([[0.1232, 0.2123, 0.3121],\n",
      "        [0.3889, 0.5064, 0.6072],\n",
      "        [0.6862, 0.7961, 0.8922]], requires_grad=True)\n",
      "14-th Loss: 8.8679e-05\n",
      "tensor([[0.1181, 0.2096, 0.3094],\n",
      "        [0.3913, 0.5050, 0.6056],\n",
      "        [0.6893, 0.7970, 0.8939]], requires_grad=True)\n",
      "15-th Loss: 5.3645e-05\n",
      "tensor([[0.1141, 0.2074, 0.3073],\n",
      "        [0.3933, 0.5039, 0.6043],\n",
      "        [0.6917, 0.7976, 0.8953]], requires_grad=True)\n",
      "16-th Loss: 3.2452e-05\n",
      "tensor([[0.1109, 0.2058, 0.3057],\n",
      "        [0.3948, 0.5030, 0.6034],\n",
      "        [0.6935, 0.7982, 0.8963]], requires_grad=True)\n",
      "17-th Loss: 1.9632e-05\n",
      "tensor([[0.1085, 0.2045, 0.3044],\n",
      "        [0.3959, 0.5023, 0.6026],\n",
      "        [0.6950, 0.7986, 0.8971]], requires_grad=True)\n",
      "18-th Loss: 1.1876e-05\n",
      "tensor([[0.1066, 0.2035, 0.3034],\n",
      "        [0.3968, 0.5018, 0.6020],\n",
      "        [0.6961, 0.7989, 0.8978]], requires_grad=True)\n",
      "19-th Loss: 7.1842e-06\n",
      "tensor([[0.1051, 0.2027, 0.3027],\n",
      "        [0.3975, 0.5014, 0.6016],\n",
      "        [0.6969, 0.7991, 0.8983]], requires_grad=True)\n"
     ]
    }
   ],
   "source": [
    "threshold = 1e-5\n",
    "learning_rate = 1.\n",
    "iter_cnt = 0\n",
    "\n",
    "while loss > threshold:\n",
    "    iter_cnt += 1\n",
    "    \n",
    "    loss.backward() # Cal gradient\n",
    "    \n",
    "    x = x - learning_rate * x.grad\n",
    "    \n",
    "    x.detach_()\n",
    "    x.requires_grad_(True)\n",
    "    \n",
    "    loss = F.mse_loss(x, target)\n",
    "    \n",
    "    print('%d-th Loss: %.4e' % (iter_cnt, loss))\n",
    "    print(x)"
   ]
  },
  {
   "cell_type": "code",
   "execution_count": null,
   "id": "d77da9c5",
   "metadata": {},
   "outputs": [],
   "source": []
  }
 ],
 "metadata": {
  "kernelspec": {
   "display_name": "Python 3 (ipykernel)",
   "language": "python",
   "name": "python3"
  },
  "language_info": {
   "codemirror_mode": {
    "name": "ipython",
    "version": 3
   },
   "file_extension": ".py",
   "mimetype": "text/x-python",
   "name": "python",
   "nbconvert_exporter": "python",
   "pygments_lexer": "ipython3",
   "version": "3.9.7"
  }
 },
 "nbformat": 4,
 "nbformat_minor": 5
}
