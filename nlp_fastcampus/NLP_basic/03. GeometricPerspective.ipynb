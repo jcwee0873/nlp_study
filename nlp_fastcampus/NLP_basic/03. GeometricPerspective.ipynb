{
 "cells": [
  {
   "cell_type": "markdown",
   "id": "2b1a4b04",
   "metadata": {},
   "source": [
    "## Curse of Dimensionality\n",
    "- 차원이 높아질수록 sparseness 증가 -> modeling의 난이도 증가\n",
    "- 데이터의 feature를 더럽히자 않으면서 낮은 차원에서 포현 필요  \n",
    "\n",
    "## 차원축소\n",
    "  \n",
    "### PCA, Linear Dimension Reduction\n",
    "- n차원의 공간에 샘플들의 분포가 있을 때, 분포를 설명하기 위한새로운 axis를 찾아내는 과정\n",
    "- 새로운 axis는 2가지 조건을 만족해야함\n",
    "  - 분포의 점을 Projection하는 점을 찍었을 때 점간의 거리의 합이 최대가 되는 선\n",
    "  - 선과 분포 사이의 거리의 합이 최소가 되는 선 (Projection된 점과 원래의 점간의 거리가 정보의 손실)\n",
    "- Uniform하게 분포가 이루어져 있을때 축소가 가능하다는 단점이 있음...??\n",
    "\n",
    "\n",
    "### Manifold\n",
    "- 고차원 공간의 샘플이 저차원 다양체(manifold)의 형태로 분포해 있다는 가정\n",
    "- manifold를 해당 차원의 공간에 mapping할 수 있다고 가정"
   ]
  },
  {
   "cell_type": "code",
   "execution_count": null,
   "id": "f2a4d335",
   "metadata": {},
   "outputs": [],
   "source": []
  },
  {
   "cell_type": "code",
   "execution_count": 2,
   "id": "a0c9fa55",
   "metadata": {},
   "outputs": [],
   "source": [
    "import numpy as np\n",
    "import matplotlib.pyplot as plt"
   ]
  },
  {
   "cell_type": "code",
   "execution_count": 3,
   "id": "b515293a",
   "metadata": {},
   "outputs": [],
   "source": [
    "import torch\n",
    "import torch.nn as nn\n",
    "import torch.optim as optim"
   ]
  },
  {
   "cell_type": "code",
   "execution_count": 4,
   "id": "bef71e40",
   "metadata": {},
   "outputs": [],
   "source": [
    "from module.utils import load_mnist\n",
    "from module.trainer import Trainer"
   ]
  },
  {
   "cell_type": "code",
   "execution_count": 5,
   "id": "d6606a58",
   "metadata": {},
   "outputs": [],
   "source": [
    "def show_image(x):\n",
    "    if x.dim() == 1:\n",
    "        x = x.view(int(x.size(0) ** .5), -1)\n",
    "    \n",
    "    plt.imshow(x, cmap='gray')\n",
    "    plt.show()"
   ]
  },
  {
   "cell_type": "code",
   "execution_count": 6,
   "id": "a7a69553",
   "metadata": {},
   "outputs": [
    {
     "name": "stdout",
     "output_type": "stream",
     "text": [
      "Namespace(train_ratio=0.8, batch_size=256, n_epochs=50, verbose=1, btl_size=2)\n"
     ]
    }
   ],
   "source": [
    "from argparse import Namespace\n",
    "\n",
    "config = {\n",
    "    'train_ratio': .8,\n",
    "    'batch_size': 256,\n",
    "    'n_epochs': 50,\n",
    "    'verbose': 1,\n",
    "    'btl_size': 2\n",
    "}\n",
    "\n",
    "config = Namespace(**config)\n",
    "\n",
    "print(config)"
   ]
  },
  {
   "cell_type": "code",
   "execution_count": 8,
   "id": "08bc5fba",
   "metadata": {},
   "outputs": [],
   "source": [
    "train_x, train_y = load_mnist(flatten=True)\n",
    "test_x, test_y = load_mnist(is_train=False, flatten=True)\n",
    "\n",
    "train_cnt = int(train_x.size(0) * config.train_ratio)\n",
    "valid_cnt = train_x.size(0) - train_cnt\n",
    "\n",
    "indices = torch.randperm(train_x.size(0))\n",
    "train_x, valid_x = torch.index_select(\n",
    "    train_x,\n",
    "    dim=0,\n",
    "    index=indices\n",
    ").split([train_cnt, valid_cnt], dim=0)\n",
    "\n",
    "train_y, valid_y = torch.index_select(\n",
    "    train_y,\n",
    "    dim=0,\n",
    "    index=indices\n",
    ").split([train_cnt, valid_cnt], dim=0)"
   ]
  },
  {
   "cell_type": "code",
   "execution_count": 12,
   "id": "8aaae271",
   "metadata": {},
   "outputs": [],
   "source": [
    "from module.model import Autoencoder"
   ]
  },
  {
   "cell_type": "code",
   "execution_count": 13,
   "id": "109b86b5",
   "metadata": {},
   "outputs": [],
   "source": [
    "model = Autoencoder(btl_size=config.btl_size)\n",
    "optimizer = optim.Adam(model.parameters())\n",
    "crit = nn.MSELoss()\n",
    "\n",
    "trainer = Trainer(model, optimizer, crit)"
   ]
  },
  {
   "cell_type": "code",
   "execution_count": 14,
   "id": "8f036b72",
   "metadata": {},
   "outputs": [
    {
     "name": "stdout",
     "output_type": "stream",
     "text": [
      "Epoch(1/50): train_loss=7.3845e-02  valid_loss=5.0692e-02  lowest_loss=5.0692e-02\n",
      "Epoch(2/50): train_loss=4.8728e-02  valid_loss=4.6016e-02  lowest_loss=4.6016e-02\n",
      "Epoch(3/50): train_loss=4.5767e-02  valid_loss=4.4274e-02  lowest_loss=4.4274e-02\n",
      "Epoch(4/50): train_loss=4.4186e-02  valid_loss=4.2983e-02  lowest_loss=4.2983e-02\n",
      "Epoch(5/50): train_loss=4.3195e-02  valid_loss=4.2498e-02  lowest_loss=4.2498e-02\n",
      "Epoch(6/50): train_loss=4.2540e-02  valid_loss=4.2855e-02  lowest_loss=4.2498e-02\n",
      "Epoch(7/50): train_loss=4.2215e-02  valid_loss=4.1387e-02  lowest_loss=4.1387e-02\n",
      "Epoch(8/50): train_loss=4.1399e-02  valid_loss=4.0550e-02  lowest_loss=4.0550e-02\n",
      "Epoch(9/50): train_loss=4.1385e-02  valid_loss=4.0078e-02  lowest_loss=4.0078e-02\n",
      "Epoch(10/50): train_loss=4.1123e-02  valid_loss=4.0031e-02  lowest_loss=4.0031e-02\n",
      "Epoch(11/50): train_loss=4.0847e-02  valid_loss=4.0520e-02  lowest_loss=4.0031e-02\n",
      "Epoch(12/50): train_loss=4.0575e-02  valid_loss=4.0924e-02  lowest_loss=4.0031e-02\n",
      "Epoch(13/50): train_loss=4.0360e-02  valid_loss=3.9394e-02  lowest_loss=3.9394e-02\n",
      "Epoch(14/50): train_loss=4.0173e-02  valid_loss=3.9867e-02  lowest_loss=3.9394e-02\n",
      "Epoch(15/50): train_loss=3.9765e-02  valid_loss=3.9444e-02  lowest_loss=3.9394e-02\n",
      "Epoch(16/50): train_loss=3.9829e-02  valid_loss=3.9459e-02  lowest_loss=3.9394e-02\n",
      "Epoch(17/50): train_loss=3.9701e-02  valid_loss=3.8455e-02  lowest_loss=3.8455e-02\n",
      "Epoch(18/50): train_loss=3.9340e-02  valid_loss=3.8744e-02  lowest_loss=3.8455e-02\n",
      "Epoch(19/50): train_loss=3.9489e-02  valid_loss=3.9452e-02  lowest_loss=3.8455e-02\n",
      "Epoch(20/50): train_loss=3.9227e-02  valid_loss=3.8171e-02  lowest_loss=3.8171e-02\n",
      "Epoch(21/50): train_loss=3.9180e-02  valid_loss=3.9170e-02  lowest_loss=3.8171e-02\n",
      "Epoch(22/50): train_loss=3.9408e-02  valid_loss=3.9654e-02  lowest_loss=3.8171e-02\n",
      "Epoch(23/50): train_loss=3.9631e-02  valid_loss=3.9191e-02  lowest_loss=3.8171e-02\n",
      "Epoch(24/50): train_loss=3.9218e-02  valid_loss=3.8442e-02  lowest_loss=3.8171e-02\n",
      "Epoch(25/50): train_loss=3.9239e-02  valid_loss=3.8025e-02  lowest_loss=3.8025e-02\n",
      "Epoch(26/50): train_loss=3.8546e-02  valid_loss=3.7710e-02  lowest_loss=3.7710e-02\n",
      "Epoch(27/50): train_loss=3.8371e-02  valid_loss=3.7491e-02  lowest_loss=3.7491e-02\n",
      "Epoch(28/50): train_loss=3.8381e-02  valid_loss=3.7331e-02  lowest_loss=3.7331e-02\n",
      "Epoch(29/50): train_loss=3.8322e-02  valid_loss=3.7360e-02  lowest_loss=3.7331e-02\n",
      "Epoch(30/50): train_loss=3.8218e-02  valid_loss=3.7340e-02  lowest_loss=3.7331e-02\n",
      "Epoch(31/50): train_loss=3.8080e-02  valid_loss=3.7160e-02  lowest_loss=3.7160e-02\n",
      "Epoch(32/50): train_loss=3.7926e-02  valid_loss=3.7588e-02  lowest_loss=3.7160e-02\n",
      "Epoch(33/50): train_loss=3.8186e-02  valid_loss=3.7858e-02  lowest_loss=3.7160e-02\n",
      "Epoch(34/50): train_loss=3.8132e-02  valid_loss=3.7663e-02  lowest_loss=3.7160e-02\n",
      "Epoch(35/50): train_loss=3.8593e-02  valid_loss=3.7734e-02  lowest_loss=3.7160e-02\n",
      "Epoch(36/50): train_loss=3.7795e-02  valid_loss=3.6921e-02  lowest_loss=3.6921e-02\n",
      "Epoch(37/50): train_loss=3.7659e-02  valid_loss=3.7074e-02  lowest_loss=3.6921e-02\n",
      "Epoch(38/50): train_loss=3.7775e-02  valid_loss=3.7009e-02  lowest_loss=3.6921e-02\n",
      "Epoch(39/50): train_loss=3.8588e-02  valid_loss=3.7441e-02  lowest_loss=3.6921e-02\n",
      "Epoch(40/50): train_loss=3.8586e-02  valid_loss=3.7186e-02  lowest_loss=3.6921e-02\n",
      "Epoch(41/50): train_loss=3.8821e-02  valid_loss=3.7726e-02  lowest_loss=3.6921e-02\n",
      "Epoch(42/50): train_loss=3.8149e-02  valid_loss=3.7083e-02  lowest_loss=3.6921e-02\n",
      "Epoch(43/50): train_loss=3.8649e-02  valid_loss=3.7927e-02  lowest_loss=3.6921e-02\n",
      "Epoch(44/50): train_loss=3.8137e-02  valid_loss=3.7262e-02  lowest_loss=3.6921e-02\n",
      "Epoch(45/50): train_loss=3.8000e-02  valid_loss=3.7224e-02  lowest_loss=3.6921e-02\n",
      "Epoch(46/50): train_loss=3.7912e-02  valid_loss=3.6803e-02  lowest_loss=3.6803e-02\n",
      "Epoch(47/50): train_loss=3.7466e-02  valid_loss=3.6399e-02  lowest_loss=3.6399e-02\n",
      "Epoch(48/50): train_loss=3.7669e-02  valid_loss=3.6820e-02  lowest_loss=3.6399e-02\n",
      "Epoch(49/50): train_loss=3.8004e-02  valid_loss=3.7642e-02  lowest_loss=3.6399e-02\n",
      "Epoch(50/50): train_loss=3.7512e-02  valid_loss=3.6665e-02  lowest_loss=3.6399e-02\n"
     ]
    }
   ],
   "source": [
    "trainer.train((train_x, train_x), (valid_x, valid_x), config)"
   ]
  },
  {
   "cell_type": "code",
   "execution_count": 15,
   "id": "f79b0e5a",
   "metadata": {},
   "outputs": [
    {
     "data": {
      "image/png": "[encoded data removed]",
      "text/plain": [
       "<Figure size 432x288 with 1 Axes>"
      ]
     },
     "metadata": {
      "needs_background": "light"
     },
     "output_type": "display_data"
    },
    {
     "data": {
      "image/png": "[encoded data removed]",
      "text/plain": [
       "<Figure size 432x288 with 1 Axes>"
      ]
     },
     "metadata": {
      "needs_background": "light"
     },
     "output_type": "display_data"
    },
    {
     "data": {
      "image/png": "[encoded data removed]",
      "text/plain": [
       "<Figure size 432x288 with 1 Axes>"
      ]
     },
     "metadata": {
      "needs_background": "light"
     },
     "output_type": "display_data"
    },
    {
     "data": {
      "image/png": "[encoded data removed]",
      "text/plain": [
       "<Figure size 432x288 with 1 Axes>"
      ]
     },
     "metadata": {
      "needs_background": "light"
     },
     "output_type": "display_data"
    }
   ],
   "source": [
    "with torch.no_grad():\n",
    "    import random\n",
    "    \n",
    "    index1 = int(random.random() * test_x.size(0))\n",
    "    index2 = int(random.random() * test_x.size(0))\n",
    "    \n",
    "    z1 = model.encoder(test_x[index1].view(1, -1))\n",
    "    z2 = model.encoder(test_x[index2].view(1, -1))\n",
    "    \n",
    "    recon = model.decoder((z1 + z2) / 2).squeeze()\n",
    "    \n",
    "    show_image(test_x[index1])\n",
    "    show_image(test_x[index2])\n",
    "    show_image((test_x[index1] + test_x[index2]) / 2)\n",
    "    show_image(recon)"
   ]
  },
  {
   "cell_type": "code",
   "execution_count": null,
   "id": "e734e6dd",
   "metadata": {},
   "outputs": [],
   "source": []
  }
 ],
 "metadata": {
  "kernelspec": {
   "display_name": "Python 3 (ipykernel)",
   "language": "python",
   "name": "python3"
  },
  "language_info": {
   "codemirror_mode": {
    "name": "ipython",
    "version": 3
   },
   "file_extension": ".py",
   "mimetype": "text/x-python",
   "name": "python",
   "nbconvert_exporter": "python",
   "pygments_lexer": "ipython3",
   "version": "3.9.7"
  }
 },
 "nbformat": 4,
 "nbformat_minor": 5
}
