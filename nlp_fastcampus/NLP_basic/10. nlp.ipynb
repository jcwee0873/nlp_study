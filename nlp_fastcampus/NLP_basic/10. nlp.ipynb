{
 "cells": [
  {
   "cell_type": "markdown",
   "id": "c612c403",
   "metadata": {},
   "source": [
    "## NLP\n",
    "- 자연어 -> 컴퓨터 언어 (NLU)\n",
    "  - Text Classification\n",
    "  - POS Tagging\n",
    "  - Sentiment Analysis\n",
    "  - Machine Reading Comprehension\n",
    "  - Named Entity Recognition\n",
    "  - Semantic Parsing\n",
    "- 컴퓨터 언어 -> 자연어 (NLG)\n",
    "  - Language Modeling\n",
    "  - Article Generation\n",
    "- intersection\n",
    "  - Chatbot\n",
    "  - Summarization\n",
    "  - Question Answering\n",
    "  - Machine Translation"
   ]
  },
  {
   "cell_type": "code",
   "execution_count": null,
   "id": "f0340543",
   "metadata": {},
   "outputs": [],
   "source": []
  },
  {
   "cell_type": "markdown",
   "id": "ced08948",
   "metadata": {},
   "source": [
    "## Preprocessing\n",
    "- 정제 -> Tokenization -> Subword Segmentation(word2index) -> Batchify -> Prediction -> Detokenization(index2word)  \n",
    "\n",
    "### 데이터 수집\n",
    "- Purchase\n",
    "- Crwaling"
   ]
  },
  {
   "cell_type": "code",
   "execution_count": null,
   "id": "72bdb6bd",
   "metadata": {},
   "outputs": [],
   "source": []
  },
  {
   "cell_type": "markdown",
   "id": "c462bc47",
   "metadata": {},
   "source": [
    "## Regular Expression"
   ]
  },
  {
   "cell_type": "code",
   "execution_count": 4,
   "id": "54f3c212",
   "metadata": {},
   "outputs": [],
   "source": [
    "# import sys\n",
    "# import re\n",
    "\n",
    "# def read_regex(fn):\n",
    "#     regexs = []\n",
    "\n",
    "#     f = open(fn, 'r')\n",
    "\n",
    "#     for line in f:\n",
    "#         if not line.startswith(\"#\"):\n",
    "#             tokens = line.split('\\t')\n",
    "\n",
    "#             if len(tokens) == 1:\n",
    "#                 tokens += [' ']\n",
    "\n",
    "#             tokens[0] = tokens[0][:-1] if tokens[0].endswith('\\n') else tokens[0]\n",
    "#             tokens[1] = tokens[1][:-1] if tokens[1].endswith('\\n') else tokens[1]\n",
    "\n",
    "#             regexs += [(tokens[0], tokens[1])]\n",
    "\n",
    "#     f.close()\n",
    "\n",
    "#     return regexs\n",
    "\n",
    "# if __name__ == \"__main__\":\n",
    "#     fn = sys.argv[1]\n",
    "#     target_index = int(sys.argv[2])\n",
    "\n",
    "#     regexs = read_regex(fn)\n",
    "\n",
    "#     for line in sys.stdin:\n",
    "#         if line.strip() != \"\":\n",
    "#             columns = line.strip().split('\\t')\n",
    "\n",
    "#             for r in regexs:\n",
    "#                 columns[target_index] = re.sub(r'%s' % r[0], r[1], columns[target_index].strip())\n",
    "\n",
    "#             sys.stdout.write('\\t'.join(columns) + \"\\n\")\n",
    "#         else:\n",
    "#             sys.stdout.write('\\n')"
   ]
  },
  {
   "cell_type": "code",
   "execution_count": null,
   "id": "d8305598",
   "metadata": {},
   "outputs": [],
   "source": []
  }
 ],
 "metadata": {
  "kernelspec": {
   "display_name": "Python 3 (ipykernel)",
   "language": "python",
   "name": "python3"
  },
  "language_info": {
   "codemirror_mode": {
    "name": "ipython",
    "version": 3
   },
   "file_extension": ".py",
   "mimetype": "text/x-python",
   "name": "python",
   "nbconvert_exporter": "python",
   "pygments_lexer": "ipython3",
   "version": "3.9.7"
  }
 },
 "nbformat": 4,
 "nbformat_minor": 5
}
