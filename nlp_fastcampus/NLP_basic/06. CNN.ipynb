{
 "cells": [
  {
   "cell_type": "markdown",
   "id": "fe797751",
   "metadata": {},
   "source": [
    "## CNN"
   ]
  },
  {
   "cell_type": "markdown",
   "id": "fc9fc1e8",
   "metadata": {},
   "source": [
    "## Convolution layer Input, Output size\n",
    "b = batch size  \n",
    "(xh, xw) = input size  \n",
    "cin = #input channels  \n",
    "cout = #output channels  \n",
    "(kh, kw) = kernel size  \n",
    "(yh, yw) = output size  \n",
    "  \n",
    "y = conv2d(x)  \n",
    "  \n",
    "|x| = (b, cin, xh, xw)  \n",
    "|y| = (yh, yw) = (b, cout, xh - kh + 1, xw - kw + 1)  "
   ]
  },
  {
   "cell_type": "markdown",
   "id": "9f157865",
   "metadata": {},
   "source": [
    "## Convolution layer Input, Output size ( + pad)\n",
    "b = batch size  \n",
    "(xh, xw) = input size  \n",
    "cin = #input channels  \n",
    "cout = #output channels  \n",
    "(kh, kw) = kernel size  \n",
    "(yh, yw) = output size  \n",
    "(ph, pw) = pad size\n",
    "  \n",
    "y = conv2d(x)  \n",
    "  \n",
    "|x| = (b, cin, xh, xw)  \n",
    "|y| = (yh, yw) = (b, cout, xh + 2ph - kh + 1, xw + 2pw - kw + 1)  "
   ]
  },
  {
   "cell_type": "markdown",
   "id": "38d9b07c",
   "metadata": {},
   "source": [
    "### 특징\n",
    "- Feature의 위치에 영향을 받지 않음\n",
    "- FC Layer의 경우 feature의 위치에 영향을 받음(vector로 처리하기 때문)\n",
    "- FC Layer에 비해 적은 weight를 가짐\n",
    "  - kernal size * output channel 크기의 weight를 가짐\n",
    "  - FC Layer의 경우 input_size * output_size의 weight\n",
    "- 병렬 계산이 구성이 쉬워 GPU 연산이 매우 빠름"
   ]
  },
  {
   "cell_type": "markdown",
   "id": "b03acf86",
   "metadata": {},
   "source": [
    "### Cons\n",
    "- Input, Output 크기가 계산이 까다로워, 네트워크 구성이 어려움"
   ]
  },
  {
   "cell_type": "markdown",
   "id": "8c448dcf",
   "metadata": {},
   "source": [
    "### Dimension Reductions in CNN\n",
    "- Max-pooling 초기에 많이 사용\n",
    "- Stride 같은 conv layer 내에서 간단히 동작, 최근 애용"
   ]
  },
  {
   "cell_type": "markdown",
   "id": "b0e2bd49",
   "metadata": {},
   "source": [
    "### How to design CNN Architecture\n",
    "- CNN Block\n",
    "  - 3X3 Conv + pad\n",
    "  - Relu\n",
    "  - Batch Norm\n",
    "  - 3X3 Conv(+ stride 2*2 + pad)\n",
    "  - Relu\n",
    "  - Batch Norm\n",
    "  - (+ Max-pooling if no stride)"
   ]
  },
  {
   "cell_type": "code",
   "execution_count": 2,
   "id": "5d3853b9",
   "metadata": {},
   "outputs": [
    {
     "name": "stdout",
     "output_type": "stream",
     "text": [
      "Package                       Version\r\n",
      "----------------------------- --------------\r\n",
      "appnope                       0.1.2\r\n",
      "argon2-cffi                   21.1.0\r\n",
      "async-generator               1.10\r\n",
      "attrs                         21.2.0\r\n",
      "backcall                      0.2.0\r\n",
      "backports.functools-lru-cache 1.6.4\r\n",
      "bleach                        4.1.0\r\n",
      "brotlipy                      0.7.0\r\n",
      "certifi                       2021.10.8\r\n",
      "cffi                          1.15.0\r\n",
      "chardet                       4.0.0\r\n",
      "charset-normalizer            2.0.0\r\n",
      "click                         8.0.3\r\n",
      "colorama                      0.4.4\r\n",
      "cryptography                  35.0.0\r\n",
      "cycler                        0.11.0\r\n",
      "debugpy                       1.5.1\r\n",
      "decorator                     5.1.0\r\n",
      "defusedxml                    0.7.1\r\n",
      "entrypoints                   0.3\r\n",
      "fonttools                     4.28.1\r\n",
      "future                        0.18.2\r\n",
      "idna                          3.1\r\n",
      "importlib-metadata            4.8.2\r\n",
      "importlib-resources           5.4.0\r\n",
      "ipykernel                     6.5.0\r\n",
      "ipython                       7.29.0\r\n",
      "ipython-genutils              0.2.0\r\n",
      "ipywidgets                    7.6.5\r\n",
      "jedi                          0.18.1\r\n",
      "Jinja2                        3.0.3\r\n",
      "joblib                        1.1.0\r\n",
      "JPype1                        1.3.0\r\n",
      "jsonschema                    4.2.1\r\n",
      "jupyter                       1.0.0\r\n",
      "jupyter-client                7.0.6\r\n",
      "jupyter-console               6.4.0\r\n",
      "jupyter-core                  4.9.1\r\n",
      "jupyterlab-pygments           0.1.2\r\n",
      "jupyterlab-widgets            1.0.2\r\n",
      "kiwisolver                    1.3.2\r\n",
      "konlpy                        0.6.0\r\n",
      "lxml                          4.7.1\r\n",
      "MarkupSafe                    2.0.1\r\n",
      "matplotlib                    3.5.0\r\n",
      "matplotlib-inline             0.1.3\r\n",
      "mecab-python                  0.996-ko-0.9.2\r\n",
      "mistune                       0.8.4\r\n",
      "munkres                       1.1.4\r\n",
      "nbclient                      0.5.8\r\n",
      "nbconvert                     6.3.0\r\n",
      "nbformat                      5.1.3\r\n",
      "nest-asyncio                  1.5.1\r\n",
      "nltk                          3.6.7\r\n",
      "notebook                      6.4.6\r\n",
      "numpy                         1.21.4\r\n",
      "olefile                       0.46\r\n",
      "packaging                     21.3\r\n",
      "pandas                        1.3.4\r\n",
      "pandocfilters                 1.5.0\r\n",
      "parso                         0.8.2\r\n",
      "pexpect                       4.8.0\r\n",
      "pickleshare                   0.7.5\r\n",
      "Pillow                        8.4.0\r\n",
      "pip                           21.3.1\r\n",
      "prometheus-client             0.12.0\r\n",
      "prompt-toolkit                3.0.22\r\n",
      "ptyprocess                    0.7.0\r\n",
      "pycparser                     2.21\r\n",
      "Pygments                      2.10.0\r\n",
      "pyOpenSSL                     21.0.0\r\n",
      "pyparsing                     3.0.6\r\n",
      "pyrsistent                    0.18.0\r\n",
      "PySocks                       1.7.1\r\n",
      "python-dateutil               2.8.2\r\n",
      "pytorch-ignite                0.4.8\r\n",
      "pytz                          2021.3\r\n",
      "pyzmq                         22.3.0\r\n",
      "regex                         2021.11.10\r\n",
      "requests                      2.26.0\r\n",
      "scikit-learn                  1.0.2\r\n",
      "scipy                         1.7.3\r\n",
      "seaborn                       0.11.2\r\n",
      "Send2Trash                    1.8.0\r\n",
      "setuptools                    59.1.1\r\n",
      "six                           1.16.0\r\n",
      "sklearn                       0.0\r\n",
      "terminado                     0.12.1\r\n",
      "testpath                      0.5.0\r\n",
      "threadpoolctl                 3.0.0\r\n",
      "torch                         1.10.0\r\n",
      "torchtext                     0.6.0\r\n",
      "torchvision                   0.2.2\r\n",
      "tornado                       6.1\r\n",
      "tqdm                          4.62.3\r\n",
      "traitlets                     5.1.1\r\n",
      "typing_extensions             4.0.0\r\n",
      "urllib3                       1.26.7\r\n",
      "wcwidth                       0.2.5\r\n",
      "webencodings                  0.5.1\r\n",
      "wheel                         0.37.0\r\n",
      "widgetsnbextension            3.5.2\r\n",
      "zipp                          3.6.0\r\n"
     ]
    }
   ],
   "source": [
    "!pip list"
   ]
  },
  {
   "cell_type": "code",
   "execution_count": null,
   "id": "c4a5f1c4",
   "metadata": {},
   "outputs": [],
   "source": []
  }
 ],
 "metadata": {
  "kernelspec": {
   "display_name": "Python 3 (ipykernel)",
   "language": "python",
   "name": "python3"
  },
  "language_info": {
   "codemirror_mode": {
    "name": "ipython",
    "version": 3
   },
   "file_extension": ".py",
   "mimetype": "text/x-python",
   "name": "python",
   "nbconvert_exporter": "python",
   "pygments_lexer": "ipython3",
   "version": "3.9.7"
  }
 },
 "nbformat": 4,
 "nbformat_minor": 5
}
