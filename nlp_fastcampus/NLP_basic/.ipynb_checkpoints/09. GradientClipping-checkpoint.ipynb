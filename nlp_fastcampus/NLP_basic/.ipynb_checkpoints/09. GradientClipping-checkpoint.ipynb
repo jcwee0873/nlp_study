{
 "cells": [
  {
   "cell_type": "markdown",
   "id": "149c7c78",
   "metadata": {},
   "source": [
    "## GradientClipping\n",
    "- RNN 모델의 경우 sequnce의 길이가 길어질 경우 계산이 많아짐\n",
    "- lr을 조절해서, sequence의 길이에 따라서 gradient를 변동시킬 수 있을까?\n",
    "- k = (grad) / threshold, theta = theta - grad / k\n",
    "- threshold와 grad 크기에 따라 이동을 조절\n",
    "- Adam을 사용할 경우 큰 필요가 없음"
   ]
  },
  {
   "cell_type": "code",
   "execution_count": 2,
   "id": "46df36b6",
   "metadata": {},
   "outputs": [],
   "source": [
    "import torch\n",
    "import torch.nn as nn\n",
    "import torch.optim as optim"
   ]
  },
  {
   "cell_type": "code",
   "execution_count": 4,
   "id": "f515d935",
   "metadata": {},
   "outputs": [],
   "source": [
    "threshold = 1"
   ]
  },
  {
   "cell_type": "code",
   "execution_count": null,
   "id": "7a490714",
   "metadata": {},
   "outputs": [],
   "source": [
    "nn.utils.clip_grad_norm_(\n",
    "    model.parameters(),\n",
    "    threshold,\n",
    "    norm_type=2\n",
    ")"
   ]
  }
 ],
 "metadata": {
  "kernelspec": {
   "display_name": "Python 3 (ipykernel)",
   "language": "python",
   "name": "python3"
  },
  "language_info": {
   "codemirror_mode": {
    "name": "ipython",
    "version": 3
   },
   "file_extension": ".py",
   "mimetype": "text/x-python",
   "name": "python",
   "nbconvert_exporter": "python",
   "pygments_lexer": "ipython3",
   "version": "3.9.7"
  }
 },
 "nbformat": 4,
 "nbformat_minor": 5
}
