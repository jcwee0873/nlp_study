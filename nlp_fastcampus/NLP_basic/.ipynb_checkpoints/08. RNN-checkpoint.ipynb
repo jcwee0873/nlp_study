{
 "cells": [
  {
   "cell_type": "code",
   "execution_count": 1,
   "id": "bfcd0dcf",
   "metadata": {},
   "outputs": [],
   "source": [
    "import os\n",
    "os.environ[\"CUDA_VISIBLE_DEVICES\"]=\"0\""
   ]
  },
  {
   "cell_type": "code",
   "execution_count": 2,
   "id": "3fb0753d",
   "metadata": {},
   "outputs": [],
   "source": [
    "import numpy as np\n",
    "import matplotlib.pyplot as plt\n",
    "\n",
    "import torch\n",
    "from torch import nn\n",
    "from torch import optim"
   ]
  },
  {
   "cell_type": "code",
   "execution_count": 3,
   "id": "a7744c77",
   "metadata": {},
   "outputs": [],
   "source": [
    "from mymodule.data_loader import get_loader\n",
    "from mymodule.trainer import Trainer"
   ]
  },
  {
   "cell_type": "markdown",
   "id": "b3e97c72",
   "metadata": {},
   "source": [
    "### Model"
   ]
  },
  {
   "cell_type": "code",
   "execution_count": 4,
   "id": "6a27fcf6",
   "metadata": {},
   "outputs": [],
   "source": [
    "class SequenceClassifier(nn.Module):\n",
    "    \n",
    "    def __init__(\n",
    "        self,\n",
    "        input_size,\n",
    "        hidden_size,\n",
    "        output_size,\n",
    "        n_layers=4,\n",
    "        dropout_p=.2\n",
    "    ):\n",
    "        self.input_size = input_size\n",
    "        self.hidden_size = hidden_size\n",
    "        self.output_size = output_size\n",
    "        self.n_layers = n_layers\n",
    "        self.dropout_p = dropout_p\n",
    "        \n",
    "        super().__init__()\n",
    "        \n",
    "        self.rnn = nn.LSTM(\n",
    "            input_size=input_size,\n",
    "            hidden_size=hidden_size,\n",
    "            num_layers=n_layers,\n",
    "            batch_first=True,\n",
    "            dropout=dropout_p,\n",
    "            bidirectional=True\n",
    "        )\n",
    "        self.layers = nn.Sequential(\n",
    "            nn.ReLU(),\n",
    "            nn.BatchNorm1d(hidden_size * 2),\n",
    "            nn.Linear(hidden_size * 2, output_size),\n",
    "            nn.Softmax(dim=-1),\n",
    "        )\n",
    "        \n",
    "    def forward(self, x):\n",
    "        # hidden_state, close_state\n",
    "        z, _ = self.rnn(x)\n",
    "        z = z[:, -1]\n",
    "        y = self.layers(z)\n",
    "        \n",
    "        return y"
   ]
  },
  {
   "cell_type": "markdown",
   "id": "019ae831",
   "metadata": {},
   "source": [
    "### Data Load"
   ]
  },
  {
   "cell_type": "code",
   "execution_count": 5,
   "id": "6c4ceae2",
   "metadata": {},
   "outputs": [],
   "source": [
    "def load_mnist(is_train=True, flatten=True):\n",
    "    from torchvision import datasets, transforms\n",
    "\n",
    "    dataset = datasets.MNIST(\n",
    "        '../data', train=is_train, download=True,\n",
    "        transform=transforms.Compose([\n",
    "            transforms.ToTensor(),\n",
    "        ]),\n",
    "    )\n",
    "\n",
    "    x = dataset.data.float() / 255.\n",
    "    y = dataset.targets\n",
    "\n",
    "    if flatten:\n",
    "        x = x.view(x.size(0), -1)\n",
    "\n",
    "    return x, y"
   ]
  },
  {
   "cell_type": "code",
   "execution_count": 6,
   "id": "d8ef800e",
   "metadata": {},
   "outputs": [],
   "source": [
    "from torch.utils.data import Dataset\n",
    "\n",
    "class CustomDataset(Dataset):\n",
    "    \n",
    "    def __init__(self, data, labels):\n",
    "        self.data = data\n",
    "        self.labels = labels\n",
    "        \n",
    "        super().__init__()\n",
    "        \n",
    "    def __len__(self):\n",
    "        return len(self.data)\n",
    "    \n",
    "    def __getitem__(self, i):\n",
    "        x = self.data[i]\n",
    "        y = self.labels[i]\n",
    "        \n",
    "        return x, y"
   ]
  },
  {
   "cell_type": "code",
   "execution_count": 7,
   "id": "73f630b7",
   "metadata": {},
   "outputs": [],
   "source": [
    "device = torch.device('cuda:0')"
   ]
  },
  {
   "cell_type": "code",
   "execution_count": 8,
   "id": "658b7f92",
   "metadata": {},
   "outputs": [
    {
     "name": "stderr",
     "output_type": "stream",
     "text": [
      "C:\\src\\envs\\torch\\lib\\site-packages\\torchvision\\io\\image.py:11: UserWarning: Failed to load image Python extension: Could not find module 'C:\\src\\envs\\torch\\Lib\\site-packages\\torchvision\\image.pyd' (or one of its dependencies). Try using the full path with constructor syntax.\n",
      "  warn(f\"Failed to load image Python extension: {e}\")\n"
     ]
    }
   ],
   "source": [
    "x, y = load_mnist(flatten=False)"
   ]
  },
  {
   "cell_type": "code",
   "execution_count": 13,
   "id": "68e0ee7c",
   "metadata": {},
   "outputs": [],
   "source": [
    "train_loader, valid_loader = get_loader(x, y, CustomDataset)"
   ]
  },
  {
   "cell_type": "code",
   "execution_count": 14,
   "id": "8f84f175",
   "metadata": {},
   "outputs": [],
   "source": [
    "model = SequenceClassifier(28, 128, 10).to(device)"
   ]
  },
  {
   "cell_type": "code",
   "execution_count": 15,
   "id": "863f9691",
   "metadata": {},
   "outputs": [],
   "source": [
    "optimizer = optim.Adam(model.parameters())\n",
    "crit = nn.CrossEntropyLoss()"
   ]
  },
  {
   "cell_type": "code",
   "execution_count": 16,
   "id": "2837362c",
   "metadata": {},
   "outputs": [],
   "source": [
    "trainer = Trainer(model, optimizer, crit)"
   ]
  },
  {
   "cell_type": "code",
   "execution_count": 17,
   "id": "01cc8326",
   "metadata": {},
   "outputs": [
    {
     "name": "stderr",
     "output_type": "stream",
     "text": [
      "188it [00:06, 27.34it/s, Epoch=1, Loss=1.591791]\n",
      "47it [00:00, 90.99it/s, Epoch=1, Val Loss=1.592154]\n",
      "188it [00:06, 28.25it/s, Epoch=2, Loss=1.507258]\n",
      "47it [00:00, 96.20it/s, Epoch=2, Val Loss=1.504022]\n",
      "188it [00:06, 28.08it/s, Epoch=3, Loss=1.503548]\n",
      "47it [00:00, 92.88it/s, Epoch=3, Val Loss=1.494690]\n",
      "188it [00:06, 28.11it/s, Epoch=4, Loss=1.471231]\n",
      "47it [00:00, 96.70it/s, Epoch=4, Val Loss=1.497066]\n",
      "188it [00:06, 28.38it/s, Epoch=5, Loss=1.489780]\n",
      "47it [00:00, 96.81it/s, Epoch=5, Val Loss=1.509968]\n",
      "188it [00:06, 28.54it/s, Epoch=6, Loss=1.475149]\n",
      "47it [00:00, 94.94it/s, Epoch=6, Val Loss=1.479062]\n",
      "188it [00:06, 28.29it/s, Epoch=7, Loss=1.500863]\n",
      "47it [00:00, 97.51it/s, Epoch=7, Val Loss=1.482664]\n",
      "188it [00:06, 28.44it/s, Epoch=8, Loss=1.478105]\n",
      "47it [00:00, 96.19it/s, Epoch=8, Val Loss=1.485463]\n",
      "188it [00:06, 28.52it/s, Epoch=9, Loss=1.494310]\n",
      "47it [00:00, 92.24it/s, Epoch=9, Val Loss=1.475710]\n",
      "188it [00:06, 28.57it/s, Epoch=10, Loss=1.521073]\n",
      "47it [00:00, 84.38it/s, Epoch=10, Val Loss=1.482795]\n",
      "188it [00:06, 28.44it/s, Epoch=11, Loss=1.476244]\n",
      "47it [00:00, 96.51it/s, Epoch=11, Val Loss=1.483256]\n",
      "188it [00:06, 28.45it/s, Epoch=12, Loss=1.492446]\n",
      "47it [00:00, 94.95it/s, Epoch=12, Val Loss=1.481632]\n",
      "188it [00:06, 28.51it/s, Epoch=13, Loss=1.501686]\n",
      "47it [00:00, 94.38it/s, Epoch=13, Val Loss=1.503713]\n",
      "188it [00:06, 28.21it/s, Epoch=14, Loss=1.469024]\n",
      "47it [00:00, 91.26it/s, Epoch=14, Val Loss=1.485921]\n",
      "188it [00:06, 28.33it/s, Epoch=15, Loss=1.491736]\n",
      "47it [00:00, 96.51it/s, Epoch=15, Val Loss=1.490025]\n",
      "188it [00:06, 28.46it/s, Epoch=16, Loss=1.495584]\n",
      "47it [00:00, 91.09it/s, Epoch=16, Val Loss=1.487947]\n",
      "188it [00:06, 28.26it/s, Epoch=17, Loss=1.468940]\n",
      "47it [00:00, 94.94it/s, Epoch=17, Val Loss=1.474101]\n",
      "188it [00:06, 28.43it/s, Epoch=18, Loss=1.488083]\n",
      "47it [00:00, 97.01it/s, Epoch=18, Val Loss=1.482236]\n",
      "188it [00:06, 28.01it/s, Epoch=19, Loss=1.478229]\n",
      "47it [00:00, 93.34it/s, Epoch=19, Val Loss=1.508110]\n",
      "188it [00:06, 27.75it/s, Epoch=20, Loss=1.475984]\n",
      "47it [00:00, 93.63it/s, Epoch=20, Val Loss=1.483897]"
     ]
    },
    {
     "name": "stdout",
     "output_type": "stream",
     "text": [
      "Best: Epoch= 20  val_loss= 1.479166\n"
     ]
    },
    {
     "name": "stderr",
     "output_type": "stream",
     "text": [
      "\n"
     ]
    }
   ],
   "source": [
    "trainer.train(train_loader, valid_loader, 20)"
   ]
  },
  {
   "cell_type": "code",
   "execution_count": null,
   "id": "c62458b5",
   "metadata": {},
   "outputs": [],
   "source": []
  }
 ],
 "metadata": {
  "kernelspec": {
   "display_name": "Python 3 (ipykernel)",
   "language": "python",
   "name": "python3"
  },
  "language_info": {
   "codemirror_mode": {
    "name": "ipython",
    "version": 3
   },
   "file_extension": ".py",
   "mimetype": "text/x-python",
   "name": "python",
   "nbconvert_exporter": "python",
   "pygments_lexer": "ipython3",
   "version": "3.9.7"
  }
 },
 "nbformat": 4,
 "nbformat_minor": 5
}
