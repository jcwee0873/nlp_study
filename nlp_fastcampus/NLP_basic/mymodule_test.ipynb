{
 "cells": [
  {
   "cell_type": "code",
   "execution_count": 20,
   "id": "ccfb8dee",
   "metadata": {},
   "outputs": [],
   "source": [
    "import os\n",
    "\n",
    "from torch.utils.data import DataLoader, Dataset\n",
    "\n",
    "def get_loader(x, y,\n",
    "               dataset,\n",
    "               batch_size=256,\n",
    "               is_train = True,\n",
    "               train_ratio=.8, \n",
    "               valid_ratio=.2,):\n",
    "        \n",
    "    assert (train_ratio + valid_ratio) <= 1\n",
    "    \n",
    "    if is_train : \n",
    "        train_cnt = int(x.size(0) * train_ratio)\n",
    "        valid_cnt = x.size(0) - train_cnt\n",
    "\n",
    "        indices = torch.randperm(x.size(0))\n",
    "\n",
    "        train_x, valid_x = torch.index_select(\n",
    "            x,\n",
    "            dim=0,\n",
    "            index=indices\n",
    "        ).split([train_cnt, valid_cnt])\n",
    "        \n",
    "        train_y, valid_y = torch.index_select(\n",
    "            y,\n",
    "            dim=0,\n",
    "            index=indices\n",
    "        ).split([train_cnt, valid_cnt])\n",
    "\n",
    "        train_loader = DataLoader(\n",
    "            dataset=dataset(train_x, train_y),\n",
    "            batch_size=batch_size,\n",
    "            shuffle=True\n",
    "        )\n",
    "        valid_loader = DataLoader(\n",
    "            dataset=dataset(valid_x, valid_y),\n",
    "            batch_size=batch_size,\n",
    "            shuffle=True\n",
    "        )\n",
    "        \n",
    "        return train_loader, valid_loader\n",
    "\n",
    "    else :\n",
    "        test_loader = DataLoader(\n",
    "            dataset=dataset(x, y),\n",
    "            batch_size=batch_size,\n",
    "            shuffle=False\n",
    "        )\n",
    "        \n",
    "        return test_loader"
   ]
  },
  {
   "cell_type": "code",
   "execution_count": 133,
   "id": "9529d300",
   "metadata": {},
   "outputs": [],
   "source": [
    "from copy import deepcopy\n",
    "\n",
    "import numpy as np\n",
    "\n",
    "import torch\n",
    "from torch import nn\n",
    "from torch import optim\n",
    "from tqdm import tqdm\n",
    "\n",
    "class Trainer():\n",
    "    \n",
    "    def __init__(self, model, optimizer, crit):\n",
    "        self.model = model\n",
    "        self.optimizer = optimizer\n",
    "        self.crit = crit\n",
    "    \n",
    "    def _train(self, batch_item):\n",
    "        self.model.train()\n",
    "        \n",
    "        x = batch_item[0]\n",
    "        y = batch_item[1]\n",
    "        \n",
    "        y_hat = self.model(x)\n",
    "        loss = self.crit(y_hat, y)\n",
    "\n",
    "        self.optimizer.zero_grad()\n",
    "        loss.backward()\n",
    "\n",
    "        self.optimizer.step()\n",
    "        \n",
    "        return float(loss)\n",
    "    \n",
    "    def _validate(self, batch_item):\n",
    "        self.model.eval()\n",
    "        \n",
    "        x = batch_item[0]\n",
    "        y = batch_item[1]\n",
    "        \n",
    "        val_loss = 0\n",
    "        with torch.no_grad():\n",
    "            y_hat = self.model(x)\n",
    "            val_loss = self.crit(y_hat, y)\n",
    "        \n",
    "        return float(val_loss)\n",
    "            \n",
    "    \n",
    "    def train(self, train_loader, valid_loader, epochs):\n",
    "        best_loss = np.inf\n",
    "        best_model = None\n",
    "        best_epoch = np.inf\n",
    "        \n",
    "        for i in range(epochs):\n",
    "            total_loss, total_val_loss = 0, 0\n",
    "            \n",
    "            tqdm_dataset = tqdm(enumerate(train_loader))\n",
    "            for batch, batch_item in tqdm_dataset:\n",
    "                batch_loss = self._train(batch_item)\n",
    "                total_loss += batch_loss\n",
    "                \n",
    "                tqdm\n",
    "                tqdm_dataset.set_postfix({\n",
    "                    'Epoch': i + 1,\n",
    "                    'Loss': '%.6f' % batch_loss,\n",
    "                })\n",
    "            \n",
    "            tqdm_dataset = tqdm(enumerate(valid_loader))\n",
    "            for batch, batch_item in tqdm_dataset:\n",
    "                batch_loss = self._validate(batch_item)\n",
    "                total_val_loss += batch_loss\n",
    "                \n",
    "                tqdm_dataset.set_postfix({\n",
    "                    'Epoch': i + 1,\n",
    "                    'Val Loss': '%.6f' % batch_loss,\n",
    "                })\n",
    "            \n",
    "            total_val_loss = total_val_loss / (batch + 1)\n",
    "            if total_val_loss <= best_loss:\n",
    "                best_loss = total_val_loss\n",
    "                best_epoch = i\n",
    "                best_model = deepcopy(self.model.state_dict())\n",
    "         \n",
    "        print('Best: Epoch= %d  val_loss= %.6f' % (best_epoch + 1, best_loss))\n",
    "        \n",
    "        self.model.load_state_dict(best_model)"
   ]
  },
  {
   "cell_type": "code",
   "execution_count": 134,
   "id": "3487bc87",
   "metadata": {},
   "outputs": [],
   "source": [
    "class CustomDataset(Dataset):\n",
    "    \n",
    "    def __init__(self, data, labels):\n",
    "        self.data = data\n",
    "        self.labels = labels\n",
    "        \n",
    "    def __len__(self):\n",
    "        return len(self.data)\n",
    "    \n",
    "    def __getitem__(self, i):\n",
    "        x = self.data[i]\n",
    "        y = self.labels[i]\n",
    "        return x, y"
   ]
  },
  {
   "cell_type": "code",
   "execution_count": 135,
   "id": "ae164cda",
   "metadata": {},
   "outputs": [],
   "source": [
    "def load_mnist(is_train=True, flatten=True):\n",
    "    from torchvision import datasets, transforms\n",
    "\n",
    "    dataset = datasets.MNIST(\n",
    "        '../data', train=is_train, download=True,\n",
    "        transform=transforms.Compose([\n",
    "            transforms.ToTensor(),\n",
    "        ]),\n",
    "    )\n",
    "\n",
    "    x = dataset.data.float() / 255.\n",
    "    y = dataset.targets\n",
    "\n",
    "    if flatten:\n",
    "        x = x.view(x.size(0), -1)\n",
    "\n",
    "    return x, y\n",
    "x, y = load_mnist()"
   ]
  },
  {
   "cell_type": "code",
   "execution_count": 136,
   "id": "fdd0c744",
   "metadata": {},
   "outputs": [],
   "source": [
    "train_loader, valid_loader = get_loader(x, y, CustomDataset)"
   ]
  },
  {
   "cell_type": "code",
   "execution_count": 137,
   "id": "893a5d1f",
   "metadata": {},
   "outputs": [
    {
     "data": {
      "text/plain": [
       "torch.Size([60000, 784])"
      ]
     },
     "execution_count": 137,
     "metadata": {},
     "output_type": "execute_result"
    }
   ],
   "source": [
    "x.shape"
   ]
  },
  {
   "cell_type": "code",
   "execution_count": 138,
   "id": "65f44659",
   "metadata": {},
   "outputs": [
    {
     "data": {
      "text/plain": [
       "Sequential(\n",
       "  (0): Linear(in_features=784, out_features=500, bias=True)\n",
       "  (1): LeakyReLU(negative_slope=0.01)\n",
       "  (2): Linear(in_features=500, out_features=300, bias=True)\n",
       "  (3): LeakyReLU(negative_slope=0.01)\n",
       "  (4): Linear(in_features=300, out_features=100, bias=True)\n",
       "  (5): LeakyReLU(negative_slope=0.01)\n",
       "  (6): Linear(in_features=100, out_features=10, bias=True)\n",
       "  (7): Softmax(dim=None)\n",
       ")"
      ]
     },
     "execution_count": 138,
     "metadata": {},
     "output_type": "execute_result"
    }
   ],
   "source": [
    "model = nn.Sequential(\n",
    "    nn.Linear(784, 500),\n",
    "    nn.LeakyReLU(),\n",
    "    nn.Linear(500, 300),\n",
    "    nn.LeakyReLU(),\n",
    "    nn.Linear(300, 100),\n",
    "    nn.LeakyReLU(),\n",
    "    nn.Linear(100, 10),\n",
    "    nn.Softmax()\n",
    ")\n",
    "model"
   ]
  },
  {
   "cell_type": "code",
   "execution_count": 139,
   "id": "ce3ab4eb",
   "metadata": {},
   "outputs": [],
   "source": [
    "optimizer = optim.Adam(model.parameters())\n",
    "crit = nn.CrossEntropyLoss()"
   ]
  },
  {
   "cell_type": "code",
   "execution_count": 140,
   "id": "f3c33719",
   "metadata": {},
   "outputs": [],
   "source": [
    "trainer = Trainer(model, optimizer, crit)"
   ]
  },
  {
   "cell_type": "code",
   "execution_count": 141,
   "id": "b8f86f10",
   "metadata": {},
   "outputs": [
    {
     "name": "stderr",
     "output_type": "stream",
     "text": [
      "188it [00:03, 61.80it/s, Epoch=1, Loss=1.535540, Mean_Loss=310.845429]\n",
      "47it [00:00, 138.64it/s, Epoch=1, Val Loss=1.527023, Val Mean_Loss=72.532902]\n",
      "188it [00:03, 57.97it/s, Epoch=2, Loss=1.505156, Mean_Loss=144.056532]\n",
      "47it [00:00, 137.03it/s, Epoch=2, Val Loss=1.513799, Val Mean_Loss=35.583687]\n",
      "188it [00:03, 59.63it/s, Epoch=3, Loss=1.491895, Mean_Loss=94.854366]\n",
      "47it [00:00, 135.06it/s, Epoch=3, Val Loss=1.535857, Val Mean_Loss=23.644481]\n",
      "188it [00:03, 59.53it/s, Epoch=4, Loss=1.529430, Mean_Loss=70.618893]\n",
      "47it [00:00, 126.00it/s, Epoch=4, Val Loss=1.504084, Val Mean_Loss=17.638962]\n",
      "188it [00:03, 59.46it/s, Epoch=5, Loss=1.476685, Mean_Loss=56.286452]\n",
      "47it [00:00, 139.47it/s, Epoch=5, Val Loss=1.527619, Val Mean_Loss=14.090008]\n",
      "188it [00:03, 60.45it/s, Epoch=6, Loss=1.485073, Mean_Loss=46.771618]\n",
      "47it [00:00, 137.83it/s, Epoch=6, Val Loss=1.489187, Val Mean_Loss=11.736745]\n",
      "188it [00:03, 60.04it/s, Epoch=7, Loss=1.484641, Mean_Loss=39.955299]\n",
      "47it [00:00, 135.84it/s, Epoch=7, Val Loss=1.489034, Val Mean_Loss=10.029629]\n",
      "188it [00:03, 58.97it/s, Epoch=8, Loss=1.466115, Mean_Loss=34.875175]\n",
      "47it [00:00, 111.64it/s, Epoch=8, Val Loss=1.492789, Val Mean_Loss=8.762887]\n",
      "188it [00:03, 59.59it/s, Epoch=9, Loss=1.476835, Mean_Loss=30.981864]\n",
      "47it [00:00, 136.63it/s, Epoch=9, Val Loss=1.495122, Val Mean_Loss=7.786421]\n",
      "188it [00:03, 58.92it/s, Epoch=10, Loss=1.484634, Mean_Loss=27.844924]\n",
      "47it [00:00, 141.99it/s, Epoch=10, Val Loss=1.486916, Val Mean_Loss=7.019515]"
     ]
    },
    {
     "name": "stdout",
     "output_type": "stream",
     "text": [
      "Best: Epoch= 9  val_loss= 1.491017\n"
     ]
    },
    {
     "name": "stderr",
     "output_type": "stream",
     "text": [
      "\n"
     ]
    }
   ],
   "source": [
    "trainer.train(train_loader, valid_loader, epochs=10)"
   ]
  },
  {
   "cell_type": "code",
   "execution_count": null,
   "id": "da6163f7",
   "metadata": {},
   "outputs": [],
   "source": []
  }
 ],
 "metadata": {
  "kernelspec": {
   "display_name": "Python 3 (ipykernel)",
   "language": "python",
   "name": "python3"
  },
  "language_info": {
   "codemirror_mode": {
    "name": "ipython",
    "version": 3
   },
   "file_extension": ".py",
   "mimetype": "text/x-python",
   "name": "python",
   "nbconvert_exporter": "python",
   "pygments_lexer": "ipython3",
   "version": "3.9.7"
  }
 },
 "nbformat": 4,
 "nbformat_minor": 5
}
